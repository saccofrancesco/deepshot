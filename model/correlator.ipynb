{
 "cells": [
  {
   "cell_type": "markdown",
   "metadata": {},
   "source": [
    "#### Correlation Matrix of Selected Features\n",
    "\n",
    "##### Overview\n",
    "This section visualizes the correlation between selected features and the target variable (`winning_team`) using a heatmap.\n",
    "\n",
    "##### Function\n",
    "The `plot_correlation_matrix` function:\n",
    "- Computes the correlation matrix for selected features.\n",
    "- Uses Seaborn’s `heatmap` to display correlations.\n",
    "- Helps identify feature relationships and potential multicollinearity.\n",
    "\n",
    "##### Usage\n",
    "1. **Load Data**: Read the dataset.\n",
    "2. **Select Features**: Choose relevant features.\n",
    "3. **Plot Correlation Matrix**: Generate the heatmap.\n",
    "\n",
    "##### Notes\n",
    "- Correlation values range from **-1** to **1**.\n",
    "- High correlation (>0.8 or <-0.8) may indicate redundancy.\n",
    "- Helps in feature selection for modeling."
   ]
  },
  {
   "cell_type": "code",
   "execution_count": null,
   "metadata": {},
   "outputs": [],
   "source": [
    "# Importing libraries\n",
    "import pandas as pd\n",
    "import matplotlib.pyplot as plt\n",
    "import seaborn as sns\n",
    "\n",
    "# Loading the dataset\n",
    "def load_data(file_path: str) -> pd.DataFrame:\n",
    "    df: pd.DataFrame = pd.read_csv(file_path)\n",
    "    return df.drop([\"date\", \"home_team\", \"away_team\"], axis=1)\n",
    "\n",
    "# Plot the selected features organized in a correlations matrix\n",
    "def plot_correlation_matrix(df: pd.DataFrame, selected_features: list[str]) -> None:\n",
    "    corr_matrix: pd.DataFrame = df[selected_features + [\"winning_team\"]].corr()\n",
    "    plt.figure(figsize=(10, 6))\n",
    "    sns.heatmap(corr_matrix, annot=True, cmap=\"coolwarm\", fmt=\".2f\", linewidths=0.5)\n",
    "    plt.title(\"Feature Correlation Matrix\")\n",
    "    plt.show()\n",
    "\n",
    "file_path: str = \"../data/csv/dataset.csv\"  # Change if needed\n",
    "df: pd.DataFrame = load_data(file_path)\n",
    "print(\"Available Features:\")\n",
    "print(df.columns.tolist())\n",
    "selected_features: list[str] = input(\n",
    "    \"Enter features to check correlation (comma-separated): \"\n",
    ").split(\" \")\n",
    "selected_features: list[str] = [\n",
    "    feat.strip() for feat in selected_features if feat.strip() in df.columns\n",
    "]\n",
    "if selected_features:\n",
    "    plot_correlation_matrix(df, selected_features)"
   ]
  },
  {
   "cell_type": "markdown",
   "metadata": {},
   "source": [
    "#### Check Correlation of a Feature with the Dataset\n",
    "\n",
    "##### Overview\n",
    "This section allows you to check the correlation between a selected feature and all other features in the dataset.\n",
    "\n",
    "##### Function\n",
    "The `check_feature_correlation` function:\n",
    "- Computes correlations between a chosen feature and all other features.\n",
    "- Sorts correlations in descending order for better readability.\n",
    "- Prints results without truncation.\n",
    "\n",
    "##### Usage\n",
    "1. **Load Data**: Read the dataset.\n",
    "2. **Select a Feature**: Enter the feature name.\n",
    "3. **Display Correlations**: View sorted correlation values.\n",
    "\n",
    "##### Notes\n",
    "- Correlation values range from **-1** to **1**.\n",
    "- High correlation (>0.8 or <-0.8) may indicate redundancy.\n",
    "- Helps in feature selection and understanding relationships in the dataset."
   ]
  },
  {
   "cell_type": "code",
   "execution_count": null,
   "metadata": {},
   "outputs": [],
   "source": [
    "# Importing libraries\n",
    "import pandas as pd\n",
    "\n",
    "# Loading the dataset\n",
    "def load_data(file_path: str) -> pd.DataFrame:\n",
    "    df: pd.DataFrame = pd.read_csv(file_path)\n",
    "    return df.drop([\"date\", \"home_team\", \"away_team\"], axis=1)\n",
    "\n",
    "# Check the rolleation between a selected feature and all the features from the dataset\n",
    "def check_feature_correlation(df: pd.DataFrame, feature: str):\n",
    "    pd.set_option(\"display.max_columns\", None)  # No column truncation\n",
    "    pd.set_option(\"display.width\", None)  # Automatically adjust width\n",
    "    pd.set_option(\"display.max_rows\", None)  # Show all rows, if necessary\n",
    "    correlations: pd.DataFrame = df.corr()[feature].sort_values(ascending=False)\n",
    "    print(f\"\\nCorrelation of {feature} with other features:\\n\")\n",
    "    print(correlations)\n",
    "\n",
    "file_path: str = \"../data/csv/dataset.csv\"  # Change if needed\n",
    "df: pd.DataFrame = load_data(file_path)\n",
    "check_feature: str = input(\"Enter a feature to check correlation with all others: \")\n",
    "if check_feature in df.columns:\n",
    "    check_feature_correlation(df, check_feature)"
   ]
  }
 ],
 "metadata": {
  "kernelspec": {
   "display_name": ".venv",
   "language": "python",
   "name": "python3"
  },
  "language_info": {
   "codemirror_mode": {
    "name": "ipython",
    "version": 3
   },
   "file_extension": ".py",
   "mimetype": "text/x-python",
   "name": "python",
   "nbconvert_exporter": "python",
   "pygments_lexer": "ipython3",
   "version": "3.13.2"
  }
 },
 "nbformat": 4,
 "nbformat_minor": 2
}
